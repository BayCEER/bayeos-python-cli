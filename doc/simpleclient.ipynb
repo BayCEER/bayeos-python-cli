{
 "metadata": {
  "name": "",
  "signature": "sha256:f93e291326b499bcaa74afb6afb351e1e8f90f3967d8d14fc954b438fa1fb3cd"
 },
 "nbformat": 3,
 "nbformat_minor": 0,
 "worksheets": [
  {
   "cells": [
    {
     "cell_type": "markdown",
     "metadata": {},
     "source": [
      "<img src=\"images/logo.png\">"
     ]
    },
    {
     "cell_type": "heading",
     "level": 2,
     "metadata": {},
     "source": [
      "Simple Client"
     ]
    },
    {
     "cell_type": "markdown",
     "metadata": {},
     "source": [
      "This demos shows how to use the `bayeos.cli.SimpleClient` class to connect to a [BayEOS Server](http://www.bayceer.uni-bayreuth.de/bayeos/de/bayeos-ser/gru/html.php?id_obj=107625). The class implements basic functionalities with native python tpyes for read and write functions. There are no dependencies to external libraries."
     ]
    },
    {
     "cell_type": "heading",
     "level": 3,
     "metadata": {},
     "source": [
      "Import of bayeos package"
     ]
    },
    {
     "cell_type": "markdown",
     "metadata": {},
     "source": [
      "The SimpleClient class can be imported as any other python class."
     ]
    },
    {
     "cell_type": "code",
     "collapsed": false,
     "input": [
      "from bayeos.cli import SimpleClient"
     ],
     "language": "python",
     "metadata": {},
     "outputs": []
    },
    {
     "cell_type": "markdown",
     "metadata": {},
     "source": [
      "We need an instance of it:"
     ]
    },
    {
     "cell_type": "code",
     "collapsed": false,
     "input": [
      "bayeos = SimpleClient()"
     ],
     "language": "python",
     "metadata": {},
     "outputs": []
    },
    {
     "cell_type": "heading",
     "level": 3,
     "metadata": {},
     "source": [
      "Server Connection"
     ]
    },
    {
     "cell_type": "markdown",
     "metadata": {},
     "source": [
      "Let us now open the connection to our freely available BayEOS Server and save the connection information in a encrypted file on our local disk. We can pick the connection information later on by an alias."
     ]
    },
    {
     "cell_type": "code",
     "collapsed": false,
     "input": [
      "bayeos.connect(url=\"http://bayeos.bayceer.uni-bayreuth.de/BayEOS-Server/XMLServlet\",user=\"gast\",password=\"gast\",save_as=\"guest@bayeos\")"
     ],
     "language": "python",
     "metadata": {},
     "outputs": []
    },
    {
     "cell_type": "markdown",
     "metadata": {},
     "source": [
      "A connection can be closed by calling `disconnect()`"
     ]
    },
    {
     "cell_type": "code",
     "collapsed": false,
     "input": [
      "bayeos.disconnect()"
     ],
     "language": "python",
     "metadata": {},
     "outputs": []
    },
    {
     "cell_type": "markdown",
     "metadata": {},
     "source": [
      "Just call the `connect()` function with the parameter `listConnections=True` to list all available connection alias."
     ]
    },
    {
     "cell_type": "code",
     "collapsed": false,
     "input": [
      "bayeos.connect(listConnections=True)"
     ],
     "language": "python",
     "metadata": {},
     "outputs": []
    },
    {
     "cell_type": "markdown",
     "metadata": {},
     "source": [
      "Use the alias to reopen the connection. The following call retrieves the alias in `$HOME/.bayeos.pwd` and decryptes it with a key stored in `$HOME/.bayeos.pwd_key`."
     ]
    },
    {
     "cell_type": "code",
     "collapsed": false,
     "input": [
      "bayeos.connect(url=\"guest@bayeos\")"
     ],
     "language": "python",
     "metadata": {},
     "outputs": []
    },
    {
     "cell_type": "heading",
     "level": 3,
     "metadata": {},
     "source": [
      "Basic Navigation"
     ]
    },
    {
     "cell_type": "markdown",
     "metadata": {},
     "source": [
      "The basic navigation interface is loosely based on the `UNIX` file sytem navigation commands."
     ]
    },
    {
     "cell_type": "markdown",
     "metadata": {},
     "source": [
      "We can list the content of a working directory by calling the `ls()` function. The output shows the id, name, type, first and last result date of folders and series rendered as a table."
     ]
    },
    {
     "cell_type": "code",
     "collapsed": false,
     "input": [
      "bayeos.ls()"
     ],
     "language": "python",
     "metadata": {},
     "outputs": []
    },
    {
     "cell_type": "markdown",
     "metadata": {},
     "source": [
      "Use the `cd()` function to change the current working directory. You need to pass in the folder id."
     ]
    },
    {
     "cell_type": "code",
     "collapsed": false,
     "input": [
      "bayeos.cd(14333)"
     ],
     "language": "python",
     "metadata": {},
     "outputs": []
    },
    {
     "cell_type": "markdown",
     "metadata": {},
     "source": [
      "Please call `cd('..')` to switch into the parent directory."
     ]
    },
    {
     "cell_type": "code",
     "collapsed": false,
     "input": [
      "bayeos.cd('..')"
     ],
     "language": "python",
     "metadata": {},
     "outputs": []
    },
    {
     "cell_type": "markdown",
     "metadata": {},
     "source": [
      "The `pwd()` function prints the current working directory path."
     ]
    },
    {
     "cell_type": "code",
     "collapsed": false,
     "input": [
      "bayeos.pwd()"
     ],
     "language": "python",
     "metadata": {},
     "outputs": []
    },
    {
     "cell_type": "markdown",
     "metadata": {},
     "source": [
      "Please close the connection before you shut down the kernel."
     ]
    },
    {
     "cell_type": "code",
     "collapsed": false,
     "input": [
      "bayeos.disconnect()"
     ],
     "language": "python",
     "metadata": {},
     "outputs": []
    },
    {
     "cell_type": "heading",
     "level": 2,
     "metadata": {},
     "source": [
      "CRUD Operations"
     ]
    },
    {
     "cell_type": "markdown",
     "metadata": {},
     "source": [
      "The SimpleClient provides methods to create, read, update and delete a series."
     ]
    },
    {
     "cell_type": "markdown",
     "metadata": {},
     "source": [
      "Import the package and open a new connection with write privileges."
     ]
    },
    {
     "cell_type": "code",
     "collapsed": false,
     "input": [
      "from bayeos.cli import SimpleClient \n",
      "bayeos = SimpleClient()\n",
      "bayeos.connect(url='myAlias')"
     ],
     "language": "python",
     "metadata": {},
     "outputs": []
    },
    {
     "cell_type": "heading",
     "level": 3,
     "metadata": {},
     "source": [
      "Create series"
     ]
    },
    {
     "cell_type": "markdown",
     "metadata": {},
     "source": [
      "To create three series and return the ids as a list we use pythons handy list comprehension functionality."
     ]
    },
    {
     "cell_type": "code",
     "collapsed": false,
     "input": [
      "ids = [bayeos.createSeries(\"Dummy\" + x) for x in [\"A\",\"B\",\"C\"] ]"
     ],
     "language": "python",
     "metadata": {},
     "outputs": []
    },
    {
     "cell_type": "markdown",
     "metadata": {},
     "source": [
      "Import some observation records as list of lists. The first column contains the observation time by convention."
     ]
    },
    {
     "cell_type": "code",
     "collapsed": false,
     "input": [
      "from datetime import datetime, timedelta\n",
      "now = datetime.utcnow()\n",
      "past = now + timedelta(minutes=-10)\n",
      "data = [[now,2.1,2.2,2.3],[past,1.1,1.2,1.3]]\n",
      "bayeos.writeSeries(ids,data)"
     ],
     "language": "python",
     "metadata": {},
     "outputs": []
    },
    {
     "cell_type": "heading",
     "level": 3,
     "metadata": {},
     "source": [
      "Read values"
     ]
    },
    {
     "cell_type": "code",
     "collapsed": false,
     "input": [
      "(header, data) = bayeos.getSeries(ids,interval='today')"
     ],
     "language": "python",
     "metadata": {},
     "outputs": []
    },
    {
     "cell_type": "code",
     "collapsed": false,
     "input": [
      "header"
     ],
     "language": "python",
     "metadata": {},
     "outputs": []
    },
    {
     "cell_type": "code",
     "collapsed": false,
     "input": [
      "data"
     ],
     "language": "python",
     "metadata": {},
     "outputs": []
    },
    {
     "cell_type": "heading",
     "level": 3,
     "metadata": {},
     "source": [
      "Update values"
     ]
    },
    {
     "cell_type": "markdown",
     "metadata": {},
     "source": [
      "You can call the writeSeries function with `overwrite=True` to update a value."
     ]
    },
    {
     "cell_type": "code",
     "collapsed": false,
     "input": [
      "data = [[now,3.1,3.2,3.3]]\n",
      "bayeos.writeSeries(ids,data,overwrite=True)\n",
      "(header, data) = bayeos.getSeries(ids,interval='today')"
     ],
     "language": "python",
     "metadata": {},
     "outputs": []
    },
    {
     "cell_type": "code",
     "collapsed": false,
     "input": [
      "data"
     ],
     "language": "python",
     "metadata": {},
     "outputs": []
    },
    {
     "cell_type": "heading",
     "level": 3,
     "metadata": {},
     "source": [
      "Delete series"
     ]
    },
    {
     "cell_type": "markdown",
     "metadata": {},
     "source": [
      "Drop all created series by id."
     ]
    },
    {
     "cell_type": "code",
     "collapsed": false,
     "input": [
      "[bayeos.deleteSeries(x) for x in ids] "
     ],
     "language": "python",
     "metadata": {},
     "outputs": []
    },
    {
     "cell_type": "heading",
     "level": 3,
     "metadata": {},
     "source": [
      "Close the connection"
     ]
    },
    {
     "cell_type": "code",
     "collapsed": false,
     "input": [
      "bayeos.disconnect()"
     ],
     "language": "python",
     "metadata": {},
     "outputs": []
    },
    {
     "cell_type": "code",
     "collapsed": false,
     "input": [],
     "language": "python",
     "metadata": {},
     "outputs": []
    }
   ],
   "metadata": {}
  }
 ]
}