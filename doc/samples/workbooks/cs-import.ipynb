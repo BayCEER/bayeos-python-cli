{
 "cells": [
  {
   "cell_type": "code",
   "execution_count": null,
   "metadata": {
    "collapsed": false
   },
   "outputs": [],
   "source": [
    "from bayeos.frame.cli import FrameClient\n",
    "import datetime"
   ]
  },
  {
   "cell_type": "code",
   "execution_count": null,
   "metadata": {
    "collapsed": true
   },
   "outputs": [],
   "source": [
    "# Data source\n",
    "host = \"132.180.116.106\"\n",
    "table = \"avg_top\""
   ]
  },
  {
   "cell_type": "code",
   "execution_count": null,
   "metadata": {
    "collapsed": true
   },
   "outputs": [],
   "source": [
    "# Mapping\n",
    "mapping = [['Ts_top_Avg',200394],['dH2O_C_Avg',200395]]"
   ]
  },
  {
   "cell_type": "code",
   "execution_count": null,
   "metadata": {
    "collapsed": true
   },
   "outputs": [],
   "source": [
    "# Destination\n",
    "folderId = 200389\n",
    "alias = 'root@bayconf'"
   ]
  },
  {
   "cell_type": "code",
   "execution_count": null,
   "metadata": {
    "collapsed": false
   },
   "outputs": [],
   "source": [
    "# Slice\n",
    "cols = [x[0] for x in mapping]\n",
    "ids = [x[1] for x in mapping]"
   ]
  },
  {
   "cell_type": "code",
   "execution_count": null,
   "metadata": {
    "collapsed": false
   },
   "outputs": [],
   "source": [
    "# Connect\n",
    "cli = FrameClient()\n",
    "cli.connect(alias)"
   ]
  },
  {
   "cell_type": "code",
   "execution_count": null,
   "metadata": {
    "collapsed": false
   },
   "outputs": [],
   "source": [
    "# Build url \n",
    "# http://132.180.116.106/?command=dataquery&uri=dl:avg_top&format=toa5&mode=since-time&p1=2015-11-18\n",
    "urlMask = \"http://{0}/?command=dataquery&uri=dl:{1}&format=toa5&mode=since-time&p1={2}\"\n",
    "node = cli.getNode(folderId)\n",
    "if node['rec_end']:\n",
    "    # YYYY-MM-DD T:HH:MM:SS.\n",
    "    rec_end = node['rec_end'].strftime('%Y-%m-%dT%H:%M:%S.00')\n",
    "else:\n",
    "    rec_end = \"2000-01-01\"\n",
    "url = urlMask.format(host,table,rec_end)\n",
    "# Read values \n",
    "print(\"Getting records since:{0}\".format(rec_end))"
   ]
  },
  {
   "cell_type": "code",
   "execution_count": null,
   "metadata": {
    "collapsed": false
   },
   "outputs": [],
   "source": [
    "dataFrame = cli.read_toa5(url,'Etc/GMT-1')"
   ]
  },
  {
   "cell_type": "code",
   "execution_count": null,
   "metadata": {
    "collapsed": false
   },
   "outputs": [],
   "source": [
    "# Import values \n",
    "cli.writeFrame(ids,dataFrame[cols])"
   ]
  },
  {
   "cell_type": "code",
   "execution_count": null,
   "metadata": {
    "collapsed": false
   },
   "outputs": [],
   "source": [
    "cli.disconnect()"
   ]
  }
 ],
 "metadata": {
  "kernelspec": {
   "display_name": "Python 2",
   "language": "python",
   "name": "python2"
  },
  "language_info": {
   "codemirror_mode": {
    "name": "ipython",
    "version": 2
   },
   "file_extension": ".py",
   "mimetype": "text/x-python",
   "name": "python",
   "nbconvert_exporter": "python",
   "pygments_lexer": "ipython2",
   "version": "2.7.10"
  }
 },
 "nbformat": 4,
 "nbformat_minor": 0
}
