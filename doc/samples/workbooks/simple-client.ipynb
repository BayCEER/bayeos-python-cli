{
 "cells": [
  {
   "cell_type": "markdown",
   "metadata": {},
   "source": [
    "## Simple Client"
   ]
  },
  {
   "cell_type": "markdown",
   "metadata": {},
   "source": [
    "This demos shows how to use the `bayeos.cli.SimpleClient` class to connect to a [BayEOS Server](http://www.bayceer.uni-bayreuth.de/bayeos/de/bayeos-ser/gru/html.php?id_obj=107625). The class implements basic functionalities with native python tpyes for read and write functions. There are no dependencies to external libraries."
   ]
  },
  {
   "cell_type": "markdown",
   "metadata": {},
   "source": [
    "### Import of bayeos package"
   ]
  },
  {
   "cell_type": "markdown",
   "metadata": {},
   "source": [
    "The SimpleClient class can be imported as any other python class."
   ]
  },
  {
   "cell_type": "code",
   "execution_count": 1,
   "metadata": {},
   "outputs": [],
   "source": [
    "from bayeos.cli import SimpleClient"
   ]
  },
  {
   "cell_type": "markdown",
   "metadata": {},
   "source": [
    "We need an instance of it:"
   ]
  },
  {
   "cell_type": "code",
   "execution_count": 2,
   "metadata": {},
   "outputs": [],
   "source": [
    "bayeos = SimpleClient()"
   ]
  },
  {
   "cell_type": "markdown",
   "metadata": {},
   "source": [
    "### Server Connection"
   ]
  },
  {
   "cell_type": "markdown",
   "metadata": {},
   "source": [
    "Let us now open the connection to our freely available BayEOS Server and save the connection information in a encrypted file on our local disk. We can pick the connection information later on by an alias."
   ]
  },
  {
   "cell_type": "code",
   "execution_count": 3,
   "metadata": {},
   "outputs": [
    {
     "name": "stdout",
     "output_type": "stream",
     "text": [
      "Open connection to http://bayeos.bayceer.uni-bayreuth.de/BayEOS-Server/XMLServlet as user gast\n"
     ]
    },
    {
     "data": {
      "text/plain": [
       "True"
      ]
     },
     "execution_count": 3,
     "metadata": {},
     "output_type": "execute_result"
    }
   ],
   "source": [
    "bayeos.connect(url=\"http://bayeos.bayceer.uni-bayreuth.de/BayEOS-Server/XMLServlet\",user=\"gast\",password=\"gast\",save_as=\"guest@bayeos\")"
   ]
  },
  {
   "cell_type": "markdown",
   "metadata": {},
   "source": [
    "A connection can be closed by calling `disconnect()`"
   ]
  },
  {
   "cell_type": "code",
   "execution_count": 4,
   "metadata": {},
   "outputs": [
    {
     "name": "stdout",
     "output_type": "stream",
     "text": [
      "Connection closed\n"
     ]
    },
    {
     "data": {
      "text/plain": [
       "True"
      ]
     },
     "execution_count": 4,
     "metadata": {},
     "output_type": "execute_result"
    }
   ],
   "source": [
    "bayeos.disconnect()"
   ]
  },
  {
   "cell_type": "markdown",
   "metadata": {},
   "source": [
    "Just call the `connect()` function with the parameter `listConnections=True` to list all available connection alias."
   ]
  },
  {
   "cell_type": "code",
   "execution_count": 5,
   "metadata": {},
   "outputs": [
    {
     "name": "stdout",
     "output_type": "stream",
     "text": [
      "Alias               |URL                                                                             |User      \n",
      "--------------------|--------------------------------------------------------------------------------|----------\n",
      "root@bayeos         |https://bayeos.bayceer.uni-bayreuth.de/BayEOS-Server/XMLServlet                 |root      \n",
      "root@localhost      |http://localhost:5532/XMLServlet                                                |root      \n",
      "bayeos              |https://bayeos.bayceer.uni-bayreuth.de/BayEOS-Server/XMLServlet                 |bt220259  \n",
      "me@bayeos           |https://bayeos.bayceer.uni-bayreuth.de/BayEOS-Server/XMLServlet                 |niessner  \n",
      "guest@bayeos        |http://bayeos.bayceer.uni-bayreuth.de/BayEOS-Server/XMLServlet                  |gast      \n",
      "myAlias             |http://bayconf.bayceer.uni-bayreuth.de/BayEOS-Server/XMLServlet                 |root      \n"
     ]
    },
    {
     "data": {
      "text/plain": [
       "True"
      ]
     },
     "execution_count": 5,
     "metadata": {},
     "output_type": "execute_result"
    }
   ],
   "source": [
    "bayeos.connect(listConnections=True)"
   ]
  },
  {
   "cell_type": "markdown",
   "metadata": {},
   "source": [
    "Use the alias to reopen the connection. The following call retrieves the alias in `$HOME/.bayeos.pwd` and decryptes it with a key stored in `$HOME/.bayeos.pwd_key`."
   ]
  },
  {
   "cell_type": "code",
   "execution_count": 6,
   "metadata": {},
   "outputs": [
    {
     "name": "stdout",
     "output_type": "stream",
     "text": [
      "Open connection to http://bayeos.bayceer.uni-bayreuth.de/BayEOS-Server/XMLServlet as user gast\n"
     ]
    },
    {
     "data": {
      "text/plain": [
       "True"
      ]
     },
     "execution_count": 6,
     "metadata": {},
     "output_type": "execute_result"
    }
   ],
   "source": [
    "bayeos.connect(url=\"guest@bayeos\")"
   ]
  },
  {
   "cell_type": "markdown",
   "metadata": {},
   "source": [
    "### Basic Navigation"
   ]
  },
  {
   "cell_type": "markdown",
   "metadata": {},
   "source": [
    "The basic navigation interface is loosely based on the `UNIX` file sytem navigation commands."
   ]
  },
  {
   "cell_type": "markdown",
   "metadata": {},
   "source": [
    "We can list the content of a working directory by calling the `ls()` function. The output shows the id, name, type, first and last result date of folders and series rendered as a table."
   ]
  },
  {
   "cell_type": "code",
   "execution_count": 7,
   "metadata": {},
   "outputs": [
    {
     "name": "stdout",
     "output_type": "stream",
     "text": [
      "Alle Messungen\n",
      "None      |..\n",
      "126232    |Dr. Hans-Frisch                                   |messung_ordner      |1884-01-26 17:20:00 |2020-03-02 14:50:00 \n",
      "14333     |Micrometeorology Dept                             |messung_ordner      |1984-11-01 18:25:00 |2020-03-02 15:02:00 \n",
      "117846    |Pivot Tabellen                                    |messung_ordner      |1970-01-01 00:00:00 |2020-01-01 00:00:00 \n",
      "14325     |Steinkreuz                                        |messung_ordner      |1994-03-17 12:00:00 |2008-04-08 10:50:00 \n"
     ]
    }
   ],
   "source": [
    "bayeos.ls()"
   ]
  },
  {
   "cell_type": "markdown",
   "metadata": {},
   "source": [
    "Use the `cd()` function to change the current working directory. You need to pass in the folder id."
   ]
  },
  {
   "cell_type": "code",
   "execution_count": 8,
   "metadata": {},
   "outputs": [
    {
     "name": "stdout",
     "output_type": "stream",
     "text": [
      "Alle Messungen/Micrometeorology Dept\n",
      "83        |..\n",
      "14473     |AWS Ecological Botanical Garden                   |messung_ordner      |1992-01-06 00:00:00 |2020-03-02 14:56:00 \n"
     ]
    }
   ],
   "source": [
    "bayeos.cd(14333)"
   ]
  },
  {
   "cell_type": "markdown",
   "metadata": {},
   "source": [
    "Please call `cd('..')` to switch into the parent directory."
   ]
  },
  {
   "cell_type": "code",
   "execution_count": null,
   "metadata": {},
   "outputs": [],
   "source": [
    "bayeos.cd('..')"
   ]
  },
  {
   "cell_type": "markdown",
   "metadata": {},
   "source": [
    "The `pwd()` function prints the current working directory path."
   ]
  },
  {
   "cell_type": "code",
   "execution_count": null,
   "metadata": {},
   "outputs": [],
   "source": [
    "bayeos.pwd()"
   ]
  },
  {
   "cell_type": "markdown",
   "metadata": {},
   "source": [
    "Please close the connection before you shut down the kernel."
   ]
  },
  {
   "cell_type": "code",
   "execution_count": 9,
   "metadata": {},
   "outputs": [
    {
     "name": "stdout",
     "output_type": "stream",
     "text": [
      "Connection closed\n"
     ]
    },
    {
     "data": {
      "text/plain": [
       "True"
      ]
     },
     "execution_count": 9,
     "metadata": {},
     "output_type": "execute_result"
    }
   ],
   "source": [
    "bayeos.disconnect()"
   ]
  },
  {
   "cell_type": "markdown",
   "metadata": {},
   "source": [
    "## CRUD Operations"
   ]
  },
  {
   "cell_type": "markdown",
   "metadata": {},
   "source": [
    "The SimpleClient provides methods to create, read, update and delete a series."
   ]
  },
  {
   "cell_type": "markdown",
   "metadata": {
    "slideshow": {
     "slide_type": "slide"
    }
   },
   "source": [
    "Import the package and open a new connection with write privileges."
   ]
  },
  {
   "cell_type": "code",
   "execution_count": 11,
   "metadata": {},
   "outputs": [
    {
     "name": "stdout",
     "output_type": "stream",
     "text": [
      "Open connection to http://bayconf.bayceer.uni-bayreuth.de/BayEOS-Server/XMLServlet as user root\n"
     ]
    },
    {
     "data": {
      "text/plain": [
       "True"
      ]
     },
     "execution_count": 11,
     "metadata": {},
     "output_type": "execute_result"
    }
   ],
   "source": [
    "from bayeos.cli import SimpleClient \n",
    "bayeos = SimpleClient()\n",
    "bayeos.connect(url='myAlias')"
   ]
  },
  {
   "cell_type": "markdown",
   "metadata": {},
   "source": [
    "### Create series"
   ]
  },
  {
   "cell_type": "markdown",
   "metadata": {},
   "source": [
    "To create three series and return the ids as a list we use pythons handy list comprehension functionality."
   ]
  },
  {
   "cell_type": "code",
   "execution_count": 12,
   "metadata": {},
   "outputs": [],
   "source": [
    "ids = [bayeos.createSeries(\"Dummy\" + x) for x in [\"A\",\"B\",\"C\"] ]"
   ]
  },
  {
   "cell_type": "markdown",
   "metadata": {},
   "source": [
    "Import some observation records as list of lists. The first column contains the observation time by convention."
   ]
  },
  {
   "cell_type": "code",
   "execution_count": 13,
   "metadata": {},
   "outputs": [
    {
     "name": "stdout",
     "output_type": "stream",
     "text": [
      "6 records imported.\n"
     ]
    }
   ],
   "source": [
    "from datetime import datetime, timedelta\n",
    "now = datetime.utcnow()\n",
    "past = now + timedelta(minutes=-10)\n",
    "data = [[now,2.1,2.2,2.3],[past,1.1,1.2,1.3]]\n",
    "bayeos.writeSeries(ids,data)"
   ]
  },
  {
   "cell_type": "markdown",
   "metadata": {},
   "source": [
    "### Read values"
   ]
  },
  {
   "cell_type": "code",
   "execution_count": 14,
   "metadata": {},
   "outputs": [],
   "source": [
    "(header, data) = bayeos.getSeries(ids,interval='today')"
   ]
  },
  {
   "cell_type": "code",
   "execution_count": 15,
   "metadata": {},
   "outputs": [
    {
     "data": {
      "text/plain": [
       "['DummyA', 'DummyB', 'DummyC']"
      ]
     },
     "execution_count": 15,
     "metadata": {},
     "output_type": "execute_result"
    }
   ],
   "source": [
    "header"
   ]
  },
  {
   "cell_type": "code",
   "execution_count": 16,
   "metadata": {},
   "outputs": [
    {
     "data": {
      "text/plain": [
       "[[datetime.datetime(2020, 3, 2, 13, 56, 15, tzinfo=<UTC>),\n",
       "  1.100000023841858,\n",
       "  1.2000000476837158,\n",
       "  1.2999999523162842],\n",
       " [datetime.datetime(2020, 3, 2, 14, 6, 15, tzinfo=<UTC>),\n",
       "  2.0999999046325684,\n",
       "  2.200000047683716,\n",
       "  2.299999952316284]]"
      ]
     },
     "execution_count": 16,
     "metadata": {},
     "output_type": "execute_result"
    }
   ],
   "source": [
    "data"
   ]
  },
  {
   "cell_type": "markdown",
   "metadata": {},
   "source": [
    "### Update values"
   ]
  },
  {
   "cell_type": "markdown",
   "metadata": {},
   "source": [
    "You can call the writeSeries function with `overwrite=True` to update a value."
   ]
  },
  {
   "cell_type": "code",
   "execution_count": 17,
   "metadata": {},
   "outputs": [
    {
     "name": "stdout",
     "output_type": "stream",
     "text": [
      "3 records imported.\n"
     ]
    }
   ],
   "source": [
    "data = [[now,3.1,3.2,3.3]]\n",
    "bayeos.writeSeries(ids,data,overwrite=True)\n",
    "(header, data) = bayeos.getSeries(ids,interval='today')"
   ]
  },
  {
   "cell_type": "code",
   "execution_count": 18,
   "metadata": {},
   "outputs": [
    {
     "data": {
      "text/plain": [
       "[[datetime.datetime(2020, 3, 2, 13, 56, 15, tzinfo=<UTC>),\n",
       "  1.100000023841858,\n",
       "  1.2000000476837158,\n",
       "  1.2999999523162842],\n",
       " [datetime.datetime(2020, 3, 2, 14, 6, 15, tzinfo=<UTC>),\n",
       "  3.0999999046325684,\n",
       "  3.200000047683716,\n",
       "  3.299999952316284]]"
      ]
     },
     "execution_count": 18,
     "metadata": {},
     "output_type": "execute_result"
    }
   ],
   "source": [
    "data"
   ]
  },
  {
   "cell_type": "markdown",
   "metadata": {},
   "source": [
    "### Delete series"
   ]
  },
  {
   "cell_type": "markdown",
   "metadata": {},
   "source": [
    "Drop all created series by id."
   ]
  },
  {
   "cell_type": "code",
   "execution_count": 19,
   "metadata": {},
   "outputs": [
    {
     "data": {
      "text/plain": [
       "[True, True, True]"
      ]
     },
     "execution_count": 19,
     "metadata": {},
     "output_type": "execute_result"
    }
   ],
   "source": [
    "[bayeos.deleteSeries(x) for x in ids] "
   ]
  },
  {
   "cell_type": "markdown",
   "metadata": {},
   "source": [
    "### Close the connection"
   ]
  },
  {
   "cell_type": "code",
   "execution_count": null,
   "metadata": {},
   "outputs": [],
   "source": [
    "bayeos.disconnect()"
   ]
  }
 ],
 "metadata": {
  "kernelspec": {
   "display_name": "Python 3",
   "language": "python",
   "name": "python3"
  },
  "language_info": {
   "codemirror_mode": {
    "name": "ipython",
    "version": 3
   },
   "file_extension": ".py",
   "mimetype": "text/x-python",
   "name": "python",
   "nbconvert_exporter": "python",
   "pygments_lexer": "ipython3",
   "version": "3.7.3"
  }
 },
 "nbformat": 4,
 "nbformat_minor": 1
}
