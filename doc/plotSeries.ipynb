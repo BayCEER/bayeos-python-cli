{
 "metadata": {
  "name": "",
  "signature": "sha256:75114647c6507a3a30c4bd7505aec4b2d150fe87ee8a4a14ea2a3bde7754ddaf"
 },
 "nbformat": 3,
 "nbformat_minor": 0,
 "worksheets": [
  {
   "cells": [
    {
     "cell_type": "heading",
     "level": 1,
     "metadata": {},
     "source": [
      "Plot Series"
     ]
    },
    {
     "cell_type": "code",
     "collapsed": true,
     "input": [
      "# Import library and create instance\n",
      "from bayeos.cli import SimpleClient\n",
      "bayeos = SimpleClient()\n",
      "# Connect to server\n",
      "bayeos.connect(\"http://bayeos/BayEOS-Server/XMLServlet\",\"gast\",\"gast\")\n",
      "# Get record \n",
      "(header, data) = bayeos.getSeries([2717,2718])"
     ],
     "language": "python",
     "metadata": {},
     "outputs": []
    },
    {
     "cell_type": "code",
     "collapsed": true,
     "input": [
      "# Plot Data with matplotlib\n",
      "import matplotlib.pyplot as plt\n",
      "%matplotlib inline"
     ],
     "language": "python",
     "metadata": {},
     "outputs": []
    },
    {
     "cell_type": "code",
     "collapsed": true,
     "input": [
      "# Slice values \n",
      "index = [x[0] for x in data]\n",
      "values = [x[1:] for x in data]"
     ],
     "language": "python",
     "metadata": {},
     "outputs": []
    },
    {
     "cell_type": "code",
     "collapsed": true,
     "input": [
      "# Create plot \n",
      "plt.plot(index,values)\n",
      "plt.gcf().autofmt_xdate()\n",
      "plt.show()"
     ],
     "language": "python",
     "metadata": {},
     "outputs": []
    },
    {
     "cell_type": "code",
     "collapsed": true,
     "input": [
      "# Close connection\n",
      "bayeos.disconnect()"
     ],
     "language": "python",
     "metadata": {},
     "outputs": []
    }
   ],
   "metadata": {}
  }
 ]
}
